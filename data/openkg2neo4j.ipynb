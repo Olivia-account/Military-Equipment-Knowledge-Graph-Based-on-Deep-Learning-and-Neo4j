{
 "cells": [
  {
   "cell_type": "code",
   "execution_count": 16,
   "metadata": {},
   "outputs": [],
   "source": [
    "import json\n",
    "from py2neo import Node, Relationship, Graph, NodeMatcher, RelationshipMatcher\n",
    "# 初始化设置\n",
    "data_path = r'F:\\graduate_design\\code\\data\\openkg_data\\military_original.json'\n",
    "# 打开数据库\n",
    "graph = Graph(\"http://localhost:7474/\", auth=(\"neo4j\", \"123456\"))"
   ]
  },
  {
   "cell_type": "code",
   "execution_count": 17,
   "metadata": {},
   "outputs": [
    {
     "data": {
      "text/html": [
       "(No data)"
      ],
      "text/plain": [
       "(No data)"
      ]
     },
     "execution_count": 17,
     "metadata": {},
     "output_type": "execute_result"
    }
   ],
   "source": [
    "# 删除所有节点与关系\n",
    "graph.run('match (n) detach delete n')"
   ]
  },
  {
   "cell_type": "code",
   "execution_count": 18,
   "metadata": {},
   "outputs": [],
   "source": [
    "# util\n",
    "# 建立一个节点\n",
    "def create_node(graph, label, attrs):\n",
    "    n = \"_.name=\" + \"\\\"\" + attrs[\"name\"] + \"\\\"\"\n",
    "\n",
    "    matcher = NodeMatcher(graph)\n",
    "    # 查询是否已经存在，若存在则返回节点，否则返回None\n",
    "    value = matcher.match(label).where(n).first()\n",
    "    # 如果要创建的节点不存在则创建\n",
    "    if value is None:\n",
    "        node = Node(*label, **attrs)\n",
    "        n = graph.create(node)\n",
    "        return n\n",
    "    return None\n",
    "# label1 = (\"Stock\",\"kk\")\n",
    "# attrs1 = {\"name\": \"招商银行\"), \"code\": \"600036\"}\n",
    "# create_node(graph, label1, attrs1)\n",
    "\n",
    "# 建立两个节点之间的关系\n",
    "def create_relationship(graph, label1, attrs1, label2, attrs2, r_name):\n",
    "    value1 = match_node(graph, label1, attrs1)\n",
    "    value2 = match_node(graph, label2, attrs2)\n",
    "    if value1 is None or value2 is None:\n",
    "        return False\n",
    "    r = Relationship(value1, r_name, value2)\n",
    "    graph.create(r)\n",
    "\n",
    "# 查询节点\n",
    "def match_node(graph, label, attrs):\n",
    "    n = \"_.name=\" + \"\\\"\" + attrs[\"name\"] + \"\\\"\"\n",
    "    matcher = NodeMatcher(graph)\n",
    "    return matcher.match(label).where(n).first()\n",
    "    \n",
    "# r = \"证券交易所\"\n",
    "# create_relationship(graph, label1, attrs1, label2, attrs2, r)"
   ]
  },
  {
   "cell_type": "code",
   "execution_count": 20,
   "metadata": {},
   "outputs": [
    {
     "name": "stdout",
     "output_type": "stream",
     "text": [
      "创建国家、生产研发单位节点完成！\n"
     ]
    }
   ],
   "source": [
    "\"\"\"创建国家、生产研发单位节点\"\"\"\n",
    "\n",
    "## 生成国家、生产研发单位列表\n",
    "country_label = []\n",
    "manufacturer_label = []\n",
    "\n",
    "for data in open(data_path, encoding='utf-8'):\n",
    "    data_json = json.loads(data)\n",
    "    # print(type(data_json))\n",
    "    # print(data_json)\n",
    "\n",
    "    node_properties = {}\n",
    "    for i in data_json.items():\n",
    "        # 加载所有国家\n",
    "        if i[0] == '产国':\n",
    "            if i[1] not in country_label:\n",
    "                country_label.append(i[1])\n",
    "\n",
    "        # 加载所有厂商\n",
    "        if i[0] == '制造厂' or i[0] == '生产单位' or i[0] == '研发单位' or i[0] == '研发厂商' or i[0] == '制造商':\n",
    "            if i[1] not in manufacturer_label:\n",
    "                manufacturer_label.append(i[1])\n",
    "\n",
    "# print(country_label)\n",
    "# print(manufacturer_label)\n",
    "\n",
    "## 生成国家、生产研发单位实体数据\n",
    "country_node = []\n",
    "manufacturer_node = []\n",
    "\n",
    "for i in country_label:\n",
    "    country_node.append([['国家'],i])\n",
    "# print(country_node)\n",
    "\n",
    "for i in manufacturer_label:\n",
    "    manufacturer_node.append([['生产研发厂商'],i])\n",
    "# print(manufacturer_node)\n",
    "# print(len(manufacturer_node))\n",
    "\n",
    "## 创建国家、生产研发单位节点\n",
    "for i in country_node:\n",
    "    create_node(graph, tuple(i[0]), {\"name\": i[1]})\n",
    "    # break\n",
    "\n",
    "for i in manufacturer_node:\n",
    "    create_node(graph, tuple(i[0]), {\"name\": i[1]})\n",
    "    # print(tuple(i[0]), {\"name\": i[1]}, i[0])\n",
    "    # break\n",
    "\n",
    "print('创建国家、生产研发单位节点完成！')"
   ]
  },
  {
   "cell_type": "code",
   "execution_count": 24,
   "metadata": {},
   "outputs": [
    {
     "name": "stdout",
     "output_type": "stream",
     "text": [
      "创建武器装备实体完成！\n"
     ]
    }
   ],
   "source": [
    "# import json\n",
    "# data_path = r'C:\\Users\\Administrator.DESKTOP-O4V8L0N\\Desktop\\事务\\毕业设计\\代码\\test\\military.json'\n",
    "big = ['飞行器', '舰船舰艇', '枪械与单兵', '坦克装甲车辆', '火炮', '导弹武器', '太空装备', '爆炸物']\n",
    "small = ['战斗机', '攻击机', '轰炸机', '教练机', '预警机', '侦察机', '反潜机', '电子战机', '无人机', '运输机', '飞艇', '试验机', '加油机', '通用飞机', '干线', '支线', '运输直升机', '武装直升机', '多用途直升机', '航空母舰', '战列舰', '巡洋舰', '驱逐舰', '护卫舰', '两栖作战舰艇', '核潜艇', '常规潜艇', '水雷战舰艇', '导弹艇', '巡逻舰/艇', '保障辅助舰艇', '气垫艇/气垫船', '其他', '非自动步枪', '自动步枪', '冲锋枪', '狙击枪', '手枪', '机枪', '霰弹枪', '火箭筒', '榴弹发射器', '附件', '刀具', '迷彩服', '步兵战车', '主战坦克', '特种坦克', '装甲运兵车', '装甲侦察车', '装甲指挥车', '救护车', '工程抢修车', '布/扫雷车', '越野车', '其他特种装甲车辆', '榴弹炮', '加农炮', '加农榴弹炮', '迫击炮', '火箭炮', '高射炮', '坦克炮', '反坦克炮', '无后坐炮', '装甲车载炮', '舰炮', '航空炮', '自行火炮', '弹炮结合系统', '反弹道导弹', '地地导弹', '舰地（潜地）导弹', '地空导弹', '舰空导弹', '空空导弹', '空地导弹', '潜舰导弹', '空舰导弹', '岸舰导弹', '舰舰导弹', '航天机构', '运载火箭', '航天基地', '技术试验卫星', '军事卫星', '科学卫星', '应用卫星', '空间探测器', '航天飞机', '宇宙飞船', '地雷', '水雷', '手榴弹', '炸弹', '鱼雷', '火箭弹', '原子弹', '氢弹', '中子弹']\n",
    "combine = big + small\n",
    "\n",
    "## 生成武装装备实体\n",
    "arms = []\n",
    "arms_node = []\n",
    "for data in open(data_path, encoding='utf-8'):\n",
    "    data_json = json.loads(data)\n",
    "    # print(data_json)\n",
    "    node_properties = {}\n",
    "    for i in data_json.items():\n",
    "        # 加载所有武器实体（label：大类 小类）\n",
    "        node_properties[i[0]] = i[1]\n",
    "    \n",
    "    # 对不规则名称进行处理\n",
    "    puncation = '＂＃＄％＆＇（）＊＋，／：；＜＝＞＠［＼］＾＿｀｛｜｝～｟｠｢｣､\\u3000、〃〈〉《》「」『』【】〔〕〖〗〘〙〚〛〜〝〞〟〰〾〿‘’‛“”„‟…‧﹏﹑﹔·！？｡。!\"#$%&\\'()*+,./:;<=>?@[\\\\]^_`{|}~'\n",
    "    for i in puncation:\n",
    "        node_properties['名称'] = node_properties['名称'].replace(i, \"\")\n",
    "    \n",
    "    # print(node_properties['_id']['$oid'])\n",
    "    # break\n",
    "\n",
    "    node_properties['_id'] = node_properties['_id']['$oid']\n",
    "    \n",
    "    node_properties['name'] = node_properties['名称']\n",
    "    # for j in combine:\n",
    "    #     if node_properties['类型'] == j:\n",
    "    #         label = j\n",
    "    # node_properties['label'] = label\n",
    "    arms.append(node_properties)  \n",
    "    # print(arms)\n",
    "    # break  \n",
    "# print(arms)\n",
    "\n",
    "# ## 创建武器装备实体\n",
    "for i in arms:\n",
    "    create_node(graph, (i['大类'], i['类型']), i)\n",
    "    # print(i['大类'])\n",
    "    # break\n",
    "print('创建武器装备实体完成！')"
   ]
  },
  {
   "cell_type": "code",
   "execution_count": 22,
   "metadata": {},
   "outputs": [
    {
     "name": "stdout",
     "output_type": "stream",
     "text": [
      "128\n",
      "['_id', '名称', '产国', '图片', '简介', '首飞时间', '研发单位', '气动布局', '发动机数量', '飞行速度', '关注度', '乘员', '机长', '翼展', '机高', '发动机', '最大飞行速度', '最大航程', '大类', '类型', 'name', '服役时间', '生产单位', '空重', '最大起飞重量', '退役时间', '旋翼直径', '机炮', '挂载点', '内置武器', '战地机型', 'W-3W', '建造时间', '满排吨位', '编制', '舰长', '型宽', '满载排水量', '续航距离', '航速', '制造厂', '下水时间', '现状', '同型', '活动范围', '前型', '次型', '自持力', '导弹', '火炮', '改装时', '水上排水量', '射控装置', '主炮', '潜航深度', '改装前', '竣工时', '装备', '武备', '兵装', '1935年', '反舰导弹', '舰舰导弹', '新造时', '防空兵器', '水下排水量', '武器装备', '鱼雷', '水雷', '武装', '枪械', '枪炮', '制造商', '生产年限', '数量', '口径', '全枪长', '全枪重', '弹匣容弹量', '参战情况', '有效射程', '发射性能', '战斗射速', '刀长', '刀锋长度', '刀锋宽度', '刀重', '研发厂商', '诞生时间', '底盘类型', '乘员与载员', '车长', '宽度', '高度', '战斗全重', '最大速度', '最大行程', '总重', '炮管长度', '最大射程', '炮口初速', '研发时间', '编辑评分', '型号', '全长', '研制时间', '射程', '弹长', '弹径', '弹重', '制导系统', '引信', '发射日期', '发射地点', '长度', '中心直径', '首次轨道发射', '轨道', '纬度', '经度', '运载火箭', '处理器', '轨道卫星', '装药类型', '全重', '引信装置', '尾翼装置', '动力装置']\n"
     ]
    }
   ],
   "source": [
    "pro_list = []\n",
    "for i in arms:\n",
    "    for key, item in i.items():\n",
    "        if key not in pro_list:\n",
    "            pro_list.append(key)\n",
    "# pro_list.remove('_id').remove('name')\n",
    "print(len(pro_list))\n",
    "print(pro_list)"
   ]
  },
  {
   "cell_type": "code",
   "execution_count": 25,
   "metadata": {},
   "outputs": [
    {
     "name": "stdout",
     "output_type": "stream",
     "text": [
      "创建关系完成\n"
     ]
    }
   ],
   "source": [
    "manufacturer_type = ['制造厂', '生产单位', '研发单位', '研发厂商', '制造商']\n",
    "count = 0\n",
    "for data in arms:\n",
    "    # data_json = json.loads(data)\n",
    "    # print(data_json)\n",
    "    # create_relationship(graph, 'manufacturer', {\"name\": data['研发单位']}, 'country', {\"name\": data['产国']}, '属于')\n",
    "    for key, value in data.items():\n",
    "        if key in manufacturer_type:\n",
    "            create_relationship(graph, '生产研发厂商', {\"name\": data[key]}, '国家', {\"name\": data['产国']}, '属于')\n",
    "            create_relationship(graph, '生产研发厂商', {\"name\": data[key]}, data['类型'], {\"name\": data['名称']}, '生产研发')\n",
    "            create_relationship(graph, data['类型'], {\"name\": data['名称']}, '国家', {\"name\": data['产国']}, '产国')\n",
    "    # break\n",
    "    # count += 1\n",
    "    # if count == 10:\n",
    "    #     break\n",
    "print('创建关系完成')"
   ]
  }
 ],
 "metadata": {
  "kernelspec": {
   "display_name": "Python 3.8.6 ('DeepLearning')",
   "language": "python",
   "name": "python3"
  },
  "language_info": {
   "codemirror_mode": {
    "name": "ipython",
    "version": 3
   },
   "file_extension": ".py",
   "mimetype": "text/x-python",
   "name": "python",
   "nbconvert_exporter": "python",
   "pygments_lexer": "ipython3",
   "version": "3.8.6"
  },
  "orig_nbformat": 4,
  "vscode": {
   "interpreter": {
    "hash": "0f533fdc1f25b1a37dbc043b4f670fef3dd0b18d15265ee0719e7b4f4ebd402b"
   }
  }
 },
 "nbformat": 4,
 "nbformat_minor": 2
}
